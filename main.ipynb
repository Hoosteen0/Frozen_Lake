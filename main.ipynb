{
 "cells": [
  {
   "cell_type": "code",
   "id": "initial_id",
   "metadata": {
    "collapsed": true,
    "ExecuteTime": {
     "end_time": "2025-01-22T23:13:44.096688Z",
     "start_time": "2025-01-22T23:13:44.087680Z"
    }
   },
   "source": [
    "import numpy as np\n",
    "import matplotlib.pyplot as plt\n",
    "import seaborn as sns\n",
    "import pymdp\n",
    "from pymdp import utils"
   ],
   "outputs": [],
   "execution_count": 1
  },
  {
   "metadata": {
    "ExecuteTime": {
     "end_time": "2025-01-22T23:13:44.119669Z",
     "start_time": "2025-01-22T23:13:44.112776Z"
    }
   },
   "cell_type": "code",
   "source": [
    "# define your hidden states determining the data to describe the outcomes\n",
    "states = [4, 4] # 4 in the x direction, 4 possible states in the y direction. This works because they are independent of each other.\n",
    "num_factors = len(states) # two\n",
    "num_controls = [2, 2] # 2 actions in the x direction, and 2 in y direction: left, right; up, down\n",
    "num_control_factors = len(num_controls) # 2\n",
    "\n",
    "unfactorized_states = [16] # one index for each location in 4x4 grid\n",
    "num_factors_unfactorized = len(unfactorized_states)\n",
    "num_controls_unfactorized = [4] # up down left right\n",
    "num_control_factors_unfactorized = len(num_controls_unfactorized) # 1"
   ],
   "id": "b53587d87b7499d0",
   "outputs": [],
   "execution_count": 2
  },
  {
   "metadata": {
    "ExecuteTime": {
     "end_time": "2025-01-22T23:13:44.406829Z",
     "start_time": "2025-01-22T23:13:44.403185Z"
    }
   },
   "cell_type": "code",
   "source": [
    "# build your empty B array\n",
    "B_factorized = utils.initialize_empty_B(states, num_controls)\n",
    "\n",
    "B_unfactorized = utils.initialize_empty_B(unfactorized_states, num_controls_unfactorized)"
   ],
   "id": "5e316cd940c59b0c",
   "outputs": [],
   "execution_count": 3
  },
  {
   "metadata": {
    "ExecuteTime": {
     "end_time": "2025-01-22T23:13:44.430102Z",
     "start_time": "2025-01-22T23:13:44.423377Z"
    }
   },
   "cell_type": "code",
   "source": "B_factorized",
   "id": "20f409bd4f4f28eb",
   "outputs": [
    {
     "data": {
      "text/plain": [
       "array([array([[[0., 0.],\n",
       "               [0., 0.],\n",
       "               [0., 0.],\n",
       "               [0., 0.]],\n",
       "\n",
       "              [[0., 0.],\n",
       "               [0., 0.],\n",
       "               [0., 0.],\n",
       "               [0., 0.]],\n",
       "\n",
       "              [[0., 0.],\n",
       "               [0., 0.],\n",
       "               [0., 0.],\n",
       "               [0., 0.]],\n",
       "\n",
       "              [[0., 0.],\n",
       "               [0., 0.],\n",
       "               [0., 0.],\n",
       "               [0., 0.]]]), array([[[0., 0.],\n",
       "                                    [0., 0.],\n",
       "                                    [0., 0.],\n",
       "                                    [0., 0.]],\n",
       "\n",
       "                                   [[0., 0.],\n",
       "                                    [0., 0.],\n",
       "                                    [0., 0.],\n",
       "                                    [0., 0.]],\n",
       "\n",
       "                                   [[0., 0.],\n",
       "                                    [0., 0.],\n",
       "                                    [0., 0.],\n",
       "                                    [0., 0.]],\n",
       "\n",
       "                                   [[0., 0.],\n",
       "                                    [0., 0.],\n",
       "                                    [0., 0.],\n",
       "                                    [0., 0.]]])], dtype=object)"
      ]
     },
     "execution_count": 4,
     "metadata": {},
     "output_type": "execute_result"
    }
   ],
   "execution_count": 4
  },
  {
   "metadata": {
    "ExecuteTime": {
     "end_time": "2025-01-22T23:13:44.483892Z",
     "start_time": "2025-01-22T23:13:44.480233Z"
    }
   },
   "cell_type": "code",
   "source": [
    "print(B_factorized[0].shape)\n",
    "print(B_factorized[1].shape)"
   ],
   "id": "bbc2b09daaa2e403",
   "outputs": [
    {
     "name": "stdout",
     "output_type": "stream",
     "text": [
      "(4, 4, 2)\n",
      "(4, 4, 2)\n"
     ]
    }
   ],
   "execution_count": 5
  },
  {
   "metadata": {
    "ExecuteTime": {
     "end_time": "2025-01-22T23:13:44.533715Z",
     "start_time": "2025-01-22T23:13:44.530626Z"
    }
   },
   "cell_type": "code",
   "source": "print(B_factorized[0][:,:,0])",
   "id": "c06f2dbcbbaf7ea0",
   "outputs": [
    {
     "name": "stdout",
     "output_type": "stream",
     "text": [
      "[[0. 0. 0. 0.]\n",
      " [0. 0. 0. 0.]\n",
      " [0. 0. 0. 0.]\n",
      " [0. 0. 0. 0.]]\n"
     ]
    }
   ],
   "execution_count": 6
  },
  {
   "metadata": {
    "ExecuteTime": {
     "end_time": "2025-01-22T23:13:44.582044Z",
     "start_time": "2025-01-22T23:13:44.576862Z"
    }
   },
   "cell_type": "code",
   "source": "B_unfactorized",
   "id": "4ac4d7a38459aa2f",
   "outputs": [
    {
     "data": {
      "text/plain": [
       "array([array([[[0., 0., 0., 0.],\n",
       "               [0., 0., 0., 0.],\n",
       "               [0., 0., 0., 0.],\n",
       "               ...,\n",
       "               [0., 0., 0., 0.],\n",
       "               [0., 0., 0., 0.],\n",
       "               [0., 0., 0., 0.]],\n",
       "\n",
       "              [[0., 0., 0., 0.],\n",
       "               [0., 0., 0., 0.],\n",
       "               [0., 0., 0., 0.],\n",
       "               ...,\n",
       "               [0., 0., 0., 0.],\n",
       "               [0., 0., 0., 0.],\n",
       "               [0., 0., 0., 0.]],\n",
       "\n",
       "              [[0., 0., 0., 0.],\n",
       "               [0., 0., 0., 0.],\n",
       "               [0., 0., 0., 0.],\n",
       "               ...,\n",
       "               [0., 0., 0., 0.],\n",
       "               [0., 0., 0., 0.],\n",
       "               [0., 0., 0., 0.]],\n",
       "\n",
       "              ...,\n",
       "\n",
       "              [[0., 0., 0., 0.],\n",
       "               [0., 0., 0., 0.],\n",
       "               [0., 0., 0., 0.],\n",
       "               ...,\n",
       "               [0., 0., 0., 0.],\n",
       "               [0., 0., 0., 0.],\n",
       "               [0., 0., 0., 0.]],\n",
       "\n",
       "              [[0., 0., 0., 0.],\n",
       "               [0., 0., 0., 0.],\n",
       "               [0., 0., 0., 0.],\n",
       "               ...,\n",
       "               [0., 0., 0., 0.],\n",
       "               [0., 0., 0., 0.],\n",
       "               [0., 0., 0., 0.]],\n",
       "\n",
       "              [[0., 0., 0., 0.],\n",
       "               [0., 0., 0., 0.],\n",
       "               [0., 0., 0., 0.],\n",
       "               ...,\n",
       "               [0., 0., 0., 0.],\n",
       "               [0., 0., 0., 0.],\n",
       "               [0., 0., 0., 0.]]], shape=(16, 16, 4))], dtype=object)"
      ]
     },
     "execution_count": 7,
     "metadata": {},
     "output_type": "execute_result"
    }
   ],
   "execution_count": 7
  },
  {
   "metadata": {
    "ExecuteTime": {
     "end_time": "2025-01-22T23:13:44.637095Z",
     "start_time": "2025-01-22T23:13:44.633462Z"
    }
   },
   "cell_type": "code",
   "source": "B_unfactorized[0].shape",
   "id": "bfd684efcb0a1578",
   "outputs": [
    {
     "data": {
      "text/plain": [
       "(16, 16, 4)"
      ]
     },
     "execution_count": 8,
     "metadata": {},
     "output_type": "execute_result"
    }
   ],
   "execution_count": 8
  },
  {
   "metadata": {
    "ExecuteTime": {
     "end_time": "2025-01-22T23:13:44.694640Z",
     "start_time": "2025-01-22T23:13:44.689028Z"
    }
   },
   "cell_type": "code",
   "source": "print(B_unfactorized[0][:,:,0])",
   "id": "43e2e3a58c39192",
   "outputs": [
    {
     "name": "stdout",
     "output_type": "stream",
     "text": [
      "[[0. 0. 0. 0. 0. 0. 0. 0. 0. 0. 0. 0. 0. 0. 0. 0.]\n",
      " [0. 0. 0. 0. 0. 0. 0. 0. 0. 0. 0. 0. 0. 0. 0. 0.]\n",
      " [0. 0. 0. 0. 0. 0. 0. 0. 0. 0. 0. 0. 0. 0. 0. 0.]\n",
      " [0. 0. 0. 0. 0. 0. 0. 0. 0. 0. 0. 0. 0. 0. 0. 0.]\n",
      " [0. 0. 0. 0. 0. 0. 0. 0. 0. 0. 0. 0. 0. 0. 0. 0.]\n",
      " [0. 0. 0. 0. 0. 0. 0. 0. 0. 0. 0. 0. 0. 0. 0. 0.]\n",
      " [0. 0. 0. 0. 0. 0. 0. 0. 0. 0. 0. 0. 0. 0. 0. 0.]\n",
      " [0. 0. 0. 0. 0. 0. 0. 0. 0. 0. 0. 0. 0. 0. 0. 0.]\n",
      " [0. 0. 0. 0. 0. 0. 0. 0. 0. 0. 0. 0. 0. 0. 0. 0.]\n",
      " [0. 0. 0. 0. 0. 0. 0. 0. 0. 0. 0. 0. 0. 0. 0. 0.]\n",
      " [0. 0. 0. 0. 0. 0. 0. 0. 0. 0. 0. 0. 0. 0. 0. 0.]\n",
      " [0. 0. 0. 0. 0. 0. 0. 0. 0. 0. 0. 0. 0. 0. 0. 0.]\n",
      " [0. 0. 0. 0. 0. 0. 0. 0. 0. 0. 0. 0. 0. 0. 0. 0.]\n",
      " [0. 0. 0. 0. 0. 0. 0. 0. 0. 0. 0. 0. 0. 0. 0. 0.]\n",
      " [0. 0. 0. 0. 0. 0. 0. 0. 0. 0. 0. 0. 0. 0. 0. 0.]\n",
      " [0. 0. 0. 0. 0. 0. 0. 0. 0. 0. 0. 0. 0. 0. 0. 0.]]\n"
     ]
    }
   ],
   "execution_count": 9
  },
  {
   "metadata": {},
   "cell_type": "markdown",
   "source": [
    "# The B Matrix\n",
    "the **B** matrix is arranged in the following way:\n",
    "> B[state_factor][s_to, s_from, action]\n",
    "\n",
    "where columns are from states, rows are to states, and the third index is the action "
   ],
   "id": "4e94b11fa8fc004d"
  },
  {
   "metadata": {
    "ExecuteTime": {
     "end_time": "2025-01-22T23:13:44.937234Z",
     "start_time": "2025-01-22T23:13:44.760195Z"
    }
   },
   "cell_type": "code",
   "source": [
    "# matrix for x state factor given action 0 (whichever you mapped it to, like left)\n",
    "utils.plot_likelihood(B_factorized[0][:,:,0])"
   ],
   "id": "f2e063af736eb8b",
   "outputs": [
    {
     "data": {
      "text/plain": [
       "<Figure size 640x480 with 2 Axes>"
      ],
      "image/png": "[encoded data removed]"
     },
     "metadata": {},
     "output_type": "display_data"
    }
   ],
   "execution_count": 10
  },
  {
   "metadata": {
    "ExecuteTime": {
     "end_time": "2025-01-22T23:13:44.966219Z",
     "start_time": "2025-01-22T23:13:44.961565Z"
    }
   },
   "cell_type": "code",
   "source": [
    "B = np.array(B_factorized, copy=True)\n",
    "for factor, ns in enumerate(states):\n",
    "    # left and up\n",
    "    B[factor][0, 0:2, 0] = 1.0\n",
    "    B[factor][1, 2, 0] = 1.0\n",
    "    B[factor][2, 3, 0] = 1.0\n",
    "    \n",
    "    # right and down\n",
    "    B[factor][1, 0, 1] = 1.0\n",
    "    B[factor][2, 1, 1] = 1.0\n",
    "    B[factor][3, 2:, 1] = 1.0"
   ],
   "id": "dfd5333a20caaba7",
   "outputs": [],
   "execution_count": 11
  },
  {
   "metadata": {},
   "cell_type": "markdown",
   "source": [
    "Left, right correspond to B[0][::0] and B[0][::1]\n",
    "\n",
    "Up, down correspond to B[1][::0] and B[0][::1]"
   ],
   "id": "a82dac0883309766"
  },
  {
   "metadata": {
    "ExecuteTime": {
     "end_time": "2025-01-22T23:13:45.336951Z",
     "start_time": "2025-01-22T23:13:44.980025Z"
    }
   },
   "cell_type": "code",
   "source": [
    "utils.plot_likelihood(B[0][:,:,0])\n",
    "utils.plot_likelihood(B[0][:,:,1])\n",
    "utils.plot_likelihood(B[1][:,:,0])\n",
    "utils.plot_likelihood(B[1][:,:,1])"
   ],
   "id": "f0fc58af5d05677e",
   "outputs": [
    {
     "data": {
      "text/plain": [
       "<Figure size 640x480 with 2 Axes>"
      ],
      "image/png": "[encoded data removed]"
     },
     "metadata": {},
     "output_type": "display_data"
    },
    {
     "data": {
      "text/plain": [
       "<Figure size 640x480 with 2 Axes>"
      ],
      "image/png": "[encoded data removed]"
     },
     "metadata": {},
     "output_type": "display_data"
    },
    {
     "data": {
      "text/plain": [
       "<Figure size 640x480 with 2 Axes>"
      ],
      "image/png": "[encoded data removed]"
     },
     "metadata": {},
     "output_type": "display_data"
    },
    {
     "data": {
      "text/plain": [
       "<Figure size 640x480 with 2 Axes>"
      ],
      "image/png": "[encoded data removed]"
     },
     "metadata": {},
     "output_type": "display_data"
    }
   ],
   "execution_count": 12
  },
  {
   "metadata": {},
   "cell_type": "markdown",
   "source": [
    "# Now for the A Matrix\n",
    "\n",
    "the first number will encode the observation index (rows), second will be one state factor (x, columns), third will be another state factor (y, layer)"
   ],
   "id": "f463a063b2eaa2b6"
  },
  {
   "metadata": {
    "ExecuteTime": {
     "end_time": "2025-01-22T23:13:45.367253Z",
     "start_time": "2025-01-22T23:13:45.361277Z"
    }
   },
   "cell_type": "code",
   "source": [
    "o_x = [x for x in range(4)]\n",
    "o_y = [x for x in range(4)]\n",
    "o_tile_types = ['ice', 'hole', 'goal']\n",
    "num_obs = [len(o_x), len(o_y), len(o_tile_types)] # 4 in the x, 4 in the y, 3 tile types to observe\n",
    "num_modalities = len(num_obs)\n",
    "\n",
    "A = utils.initialize_empty_A(num_obs, num_states=states)\n",
    "a_location_dims = num_obs + states"
   ],
   "id": "a2a57da8720e7b8a",
   "outputs": [],
   "execution_count": 13
  },
  {
   "metadata": {
    "ExecuteTime": {
     "end_time": "2025-01-22T23:13:45.399205Z",
     "start_time": "2025-01-22T23:13:45.395550Z"
    }
   },
   "cell_type": "code",
   "source": "a_location_dims",
   "id": "2036881283940709",
   "outputs": [
    {
     "data": {
      "text/plain": [
       "[4, 4, 3, 4, 4]"
      ]
     },
     "execution_count": 14,
     "metadata": {},
     "output_type": "execute_result"
    }
   ],
   "execution_count": 14
  },
  {
   "metadata": {
    "ExecuteTime": {
     "end_time": "2025-01-22T23:13:45.461564Z",
     "start_time": "2025-01-22T23:13:45.457974Z"
    }
   },
   "cell_type": "code",
   "source": [
    "print(A[0].shape)\n",
    "print(A[1].shape)\n",
    "print(A[2].shape)"
   ],
   "id": "264c2d77b0ef6a6a",
   "outputs": [
    {
     "name": "stdout",
     "output_type": "stream",
     "text": [
      "(4, 4, 4)\n",
      "(4, 4, 4)\n",
      "(3, 4, 4)\n"
     ]
    }
   ],
   "execution_count": 15
  },
  {
   "metadata": {},
   "cell_type": "markdown",
   "source": [
    "Fill out the entries of the A matrix\n",
    "\n",
    "for each A matrix:\n",
    "* A[0] -> x observation given s_x, s_y\n",
    "* A[1] -> y observation given s_x, s_y\n",
    "* A[2] -> tile_type observation given s_x, s_y"
   ],
   "id": "a9cdfe142e1f855a"
  },
  {
   "metadata": {
    "ExecuteTime": {
     "end_time": "2025-01-22T23:13:45.529160Z",
     "start_time": "2025-01-22T23:13:45.523391Z"
    }
   },
   "cell_type": "code",
   "source": "A[0][:,:,0]",
   "id": "e365102eef0e9e43",
   "outputs": [
    {
     "data": {
      "text/plain": [
       "array([[0., 0., 0., 0.],\n",
       "       [0., 0., 0., 0.],\n",
       "       [0., 0., 0., 0.],\n",
       "       [0., 0., 0., 0.]])"
      ]
     },
     "execution_count": 16,
     "metadata": {},
     "output_type": "execute_result"
    }
   ],
   "execution_count": 16
  },
  {
   "metadata": {
    "ExecuteTime": {
     "end_time": "2025-01-22T23:13:45.761489Z",
     "start_time": "2025-01-22T23:13:45.588653Z"
    }
   },
   "cell_type": "code",
   "source": [
    "A[0][:,:,0] = np.eye(4)\n",
    "A[0][:,:,1] = np.eye(4)\n",
    "A[0][:,:,2] = np.eye(4)\n",
    "A[0][:,:,3] = np.eye(4)\n",
    "utils.plot_likelihood(A[0][:,:,0])"
   ],
   "id": "82463f2e2f92b589",
   "outputs": [
    {
     "data": {
      "text/plain": [
       "<Figure size 640x480 with 2 Axes>"
      ],
      "image/png": "[encoded data removed]"
     },
     "metadata": {},
     "output_type": "display_data"
    }
   ],
   "execution_count": 17
  },
  {
   "metadata": {
    "ExecuteTime": {
     "end_time": "2025-01-22T23:13:45.805414Z",
     "start_time": "2025-01-22T23:13:45.797920Z"
    }
   },
   "cell_type": "code",
   "source": [
    "A[1][:,0,:] = np.eye(4)\n",
    "A[1][:,1,:] = np.eye(4)\n",
    "A[1][:,2,:] = np.eye(4)\n",
    "A[1][:,3,:] = np.eye(4)"
   ],
   "id": "4921e9df9a611930",
   "outputs": [],
   "execution_count": 18
  },
  {
   "metadata": {
    "ExecuteTime": {
     "end_time": "2025-01-22T23:13:45.970438Z",
     "start_time": "2025-01-22T23:13:45.829627Z"
    }
   },
   "cell_type": "code",
   "source": [
    "# tile type given x and y location\n",
    "# 3 rows in plot are {ice, hole, goal}\n",
    "# next line says, for the first row, all columns (x positions where y is zero (the top row of the game))\n",
    "# should be ice\n",
    "A[2][0:1,:,0] = 1.0 \n",
    "utils.plot_likelihood(A[2][:,:,0])"
   ],
   "id": "5e215e943ada2b88",
   "outputs": [
    {
     "data": {
      "text/plain": [
       "<Figure size 640x480 with 2 Axes>"
      ],
      "image/png": "[encoded data removed]"
     },
     "metadata": {},
     "output_type": "display_data"
    }
   ],
   "execution_count": 19
  },
  {
   "metadata": {
    "ExecuteTime": {
     "end_time": "2025-01-22T23:13:46.109111Z",
     "start_time": "2025-01-22T23:13:45.983817Z"
    }
   },
   "cell_type": "code",
   "source": [
    "A[2][0, 0, 1] = 1.0\n",
    "A[2][0, 2, 1] = 1.0\n",
    "A[2][1, 1, 1] = 1.0\n",
    "A[2][1, 3, 1] = 1.0\n",
    "utils.plot_likelihood(A[2][:,:,1])"
   ],
   "id": "5a9e122a3bccb5c5",
   "outputs": [
    {
     "data": {
      "text/plain": [
       "<Figure size 640x480 with 2 Axes>"
      ],
      "image/png": "[encoded data removed]"
     },
     "metadata": {},
     "output_type": "display_data"
    }
   ],
   "execution_count": 20
  },
  {
   "metadata": {
    "ExecuteTime": {
     "end_time": "2025-01-22T23:13:46.245663Z",
     "start_time": "2025-01-22T23:13:46.129673Z"
    }
   },
   "cell_type": "code",
   "source": [
    "A[2][0, :3, 2] = 1.0\n",
    "A[2][1, 3, 2] = 1.0\n",
    "utils.plot_likelihood(A[2][:,:,2])"
   ],
   "id": "1375244355fd25d3",
   "outputs": [
    {
     "data": {
      "text/plain": [
       "<Figure size 640x480 with 2 Axes>"
      ],
      "image/png": "[encoded data removed]"
     },
     "metadata": {},
     "output_type": "display_data"
    }
   ],
   "execution_count": 21
  },
  {
   "metadata": {
    "ExecuteTime": {
     "end_time": "2025-01-22T23:13:46.380298Z",
     "start_time": "2025-01-22T23:13:46.270303Z"
    }
   },
   "cell_type": "code",
   "source": [
    "A[2][1, 0, 3] = 1.0 # hole in first spot\n",
    "A[2][0, 1:3, 3] = 1.0 # ice in middle spots\n",
    "A[2][2, 3, 3] = 1.0 # goal in last spot\n",
    "utils.plot_likelihood(A[2][:,:,3])"
   ],
   "id": "da2e857ab94a1ab6",
   "outputs": [
    {
     "data": {
      "text/plain": [
       "<Figure size 640x480 with 2 Axes>"
      ],
      "image/png": "[encoded data removed]"
     },
     "metadata": {},
     "output_type": "display_data"
    }
   ],
   "execution_count": 22
  },
  {
   "metadata": {},
   "cell_type": "markdown",
   "source": [
    "# Now onto the C vector, to encode the preferred states of the agents\n",
    "like reaching the goal, or falling into the hole"
   ],
   "id": "a54d6d78e5b0e219"
  },
  {
   "metadata": {
    "ExecuteTime": {
     "end_time": "2025-01-22T23:13:46.393216Z",
     "start_time": "2025-01-22T23:13:46.390067Z"
    }
   },
   "cell_type": "code",
   "source": [
    "# First vector is x preferences, second is y preferences, last is tile type preferences.\n",
    "# we dont care about x and y, but we do care about tile type preferences, so we'll change that.\n",
    "C = utils.obj_array_zeros(num_obs)"
   ],
   "id": "e8361c120fa358f2",
   "outputs": [],
   "execution_count": 23
  },
  {
   "metadata": {
    "ExecuteTime": {
     "end_time": "2025-01-22T23:13:46.432238Z",
     "start_time": "2025-01-22T23:13:46.428473Z"
    }
   },
   "cell_type": "code",
   "source": "print(C)",
   "id": "137730a34b8a5096",
   "outputs": [
    {
     "name": "stdout",
     "output_type": "stream",
     "text": [
      "[array([0., 0., 0., 0.]) array([0., 0., 0., 0.]) array([0., 0., 0.])]\n"
     ]
    }
   ],
   "execution_count": 24
  },
  {
   "metadata": {
    "ExecuteTime": {
     "end_time": "2025-01-22T23:13:46.454985Z",
     "start_time": "2025-01-22T23:13:46.451867Z"
    }
   },
   "cell_type": "code",
   "source": [
    "# structure was ['ice', 'hole', 'goal']\n",
    "C[2] = np.array([0.0, -5.0, 2.0]) # the values of these are arbitrary but will be transformed into log probability space"
   ],
   "id": "b7e6bc6923402de3",
   "outputs": [],
   "execution_count": 25
  },
  {
   "metadata": {
    "ExecuteTime": {
     "end_time": "2025-01-22T23:13:46.479925Z",
     "start_time": "2025-01-22T23:13:46.475234Z"
    }
   },
   "cell_type": "code",
   "source": [
    "# D encodes prior beliefs about the environment. I think this is where we start.\n",
    "D = utils.obj_array(num_factors)\n",
    "print(D) # we have 2 state factors, x direction and y direction. \n",
    "D[0] = np.array([1.0, 0.0, 0.0, 0.0])\n",
    "D[1] = np.array([1.0, 0.0, 0.0, 0.0])\n",
    "print(D)"
   ],
   "id": "c3cd8c368918f4c",
   "outputs": [
    {
     "name": "stdout",
     "output_type": "stream",
     "text": [
      "[None None]\n",
      "[array([1., 0., 0., 0.]) array([1., 0., 0., 0.])]\n"
     ]
    }
   ],
   "execution_count": 26
  },
  {
   "metadata": {
    "ExecuteTime": {
     "end_time": "2025-01-22T23:13:46.582056Z",
     "start_time": "2025-01-22T23:13:46.513379Z"
    }
   },
   "cell_type": "code",
   "source": "utils.plot_beliefs(D[0]) # belief about where the agent starts the task. (x position 0)",
   "id": "46ad57ffe3afa71f",
   "outputs": [
    {
     "data": {
      "text/plain": [
       "<Figure size 640x480 with 1 Axes>"
      ],
      "image/png": "[encoded data removed]"
     },
     "metadata": {},
     "output_type": "display_data"
    }
   ],
   "execution_count": 27
  },
  {
   "metadata": {
    "ExecuteTime": {
     "end_time": "2025-01-22T23:13:46.637133Z",
     "start_time": "2025-01-22T23:13:46.608307Z"
    }
   },
   "cell_type": "code",
   "source": "from pymdp.agent import Agent",
   "id": "49ce8446fd77beea",
   "outputs": [],
   "execution_count": 28
  },
  {
   "metadata": {
    "ExecuteTime": {
     "end_time": "2025-01-22T23:13:46.653628Z",
     "start_time": "2025-01-22T23:13:46.649482Z"
    }
   },
   "cell_type": "code",
   "source": "my_agent = Agent(A=A, B=B, C=C, D=D)",
   "id": "2ea47a6bd7da78a8",
   "outputs": [],
   "execution_count": 29
  },
  {
   "metadata": {
    "ExecuteTime": {
     "end_time": "2025-01-22T23:13:46.672850Z",
     "start_time": "2025-01-22T23:13:46.666643Z"
    }
   },
   "cell_type": "code",
   "source": [
    "# observation is returned as a number 0-15, defined by (curr_row * ncols) + curr_col\n",
    "def get_position_y_x(pos_id):\n",
    "    table = {\n",
    "        0: [0, 0, 'ice'],\n",
    "        1: [0, 1, 'ice'],\n",
    "        2: [0, 2, 'ice'],\n",
    "        3: [0, 3, 'ice'],\n",
    "        4: [1, 0, 'ice'],\n",
    "        5: [1, 1, 'hole'],\n",
    "        6: [1, 2, 'ice'],\n",
    "        7: [1, 3, 'hole'],\n",
    "        8: [2, 0, 'ice'],\n",
    "        9: [2, 1, 'ice'],\n",
    "        10: [2, 2, 'ice'],\n",
    "        11: [2, 3, 'hole'],\n",
    "        12: [3, 0, 'hole'],\n",
    "        13: [3, 1, 'ice'],\n",
    "        14: [3, 2, 'ice'],\n",
    "        15: [3, 3, 'goal']\n",
    "    }\n",
    "    return table[pos_id]"
   ],
   "id": "127a8e66356e3056",
   "outputs": [],
   "execution_count": 30
  },
  {
   "metadata": {},
   "cell_type": "markdown",
   "source": [
    "### gym\n",
    "- left: 0\n",
    "- down: 1\n",
    "- right: 2\n",
    "- up: 3\n",
    "\n",
    "### actinf agent\n",
    "- left: B[0][::0]\n",
    "- down: B[1][::1]\n",
    "- right: B[0][::1]\n",
    "- up: B[1][::0]"
   ],
   "id": "9777ac18ccfbf673"
  },
  {
   "metadata": {
    "ExecuteTime": {
     "end_time": "2025-01-22T23:13:46.688405Z",
     "start_time": "2025-01-22T23:13:46.683733Z"
    }
   },
   "cell_type": "code",
   "source": [
    "print(f'o_x: {o_x}\\no_y: {o_y}\\no_tile_types: {o_tile_types}')\n",
    "movements = [['left', 'right'], ['up', 'down']]   # 2 actions, x and y"
   ],
   "id": "98f0d2ea46b66df7",
   "outputs": [
    {
     "name": "stdout",
     "output_type": "stream",
     "text": [
      "o_x: [0, 1, 2, 3]\n",
      "o_y: [0, 1, 2, 3]\n",
      "o_tile_types: ['ice', 'hole', 'goal']\n"
     ]
    }
   ],
   "execution_count": 31
  },
  {
   "metadata": {
    "ExecuteTime": {
     "end_time": "2025-01-22T23:19:27.538147Z",
     "start_time": "2025-01-22T23:19:27.531354Z"
    }
   },
   "cell_type": "code",
   "source": [
    "def run_active_inference(agent, env, T=10, verbose=False):\n",
    "    try:\n",
    "        # first observation\n",
    "        observation, info = env.reset()\n",
    "        obs_list = get_position_y_x(observation)\n",
    "        print(f'observation:{observation}\\nobs_list:{obs_list}')\n",
    "        obs = [o_y.index(obs_list[0]), o_x.index(obs_list[1]), o_tile_types.index(obs_list[2])]\n",
    "        for t in range(T):\n",
    "            qs = agent.infer_states(obs) # infer states takes a list of indices for the observation\n",
    "            # i think we pass in a list of indices for the x and y position.\n",
    "            q_pi, efe = agent.infer_policies()\n",
    "            chosen_action_id = agent.sample_action()\n",
    "            print(f'chosen_action_id: {chosen_action_id}\\nqs: {qs}\\nq_pi: {q_pi}\\nefe: {efe}')\n",
    "            \n",
    "            observation, reward, terminated, truncated, info = env.step(chosen_action_id)\n",
    "            obs_list = get_position_y_x(observation)\n",
    "            obs = [o_y.index(obs_list[0]), o_x.index(obs_list[1]), o_tile_types.index(obs_list[2])]\n",
    "            print(f'obs: {obs}\\n\\nreward: {reward}\\ntruncated: {truncated}\\ninfo: {info}')\n",
    "    finally:\n",
    "        env.close()"
   ],
   "id": "6ad8ed034197adac",
   "outputs": [],
   "execution_count": 38
  },
  {
   "metadata": {
    "ExecuteTime": {
     "end_time": "2025-01-22T23:13:46.908582Z",
     "start_time": "2025-01-22T23:13:46.828482Z"
    }
   },
   "cell_type": "code",
   "source": "import gymnasium as gym",
   "id": "cd3abac6960cf8e6",
   "outputs": [],
   "execution_count": 33
  },
  {
   "metadata": {
    "ExecuteTime": {
     "end_time": "2025-01-22T23:13:46.928473Z",
     "start_time": "2025-01-22T23:13:46.914359Z"
    }
   },
   "cell_type": "code",
   "source": "my_env = gym.make('FrozenLake-v1', is_slippery=False)",
   "id": "9cf3c22c0bb1de8d",
   "outputs": [],
   "execution_count": 34
  },
  {
   "metadata": {
    "ExecuteTime": {
     "end_time": "2025-01-22T23:16:58.197100Z",
     "start_time": "2025-01-22T23:16:58.118473Z"
    }
   },
   "cell_type": "code",
   "source": "run_active_inference(my_agent, my_env)",
   "id": "2805b83ed3178198",
   "outputs": [
    {
     "name": "stdout",
     "output_type": "stream",
     "text": [
      "observation:0\n",
      "obs_list:[0, 0, 'ice']\n",
      "chosen_action_id: [0. 0.]\n",
      "qs: [array([1.e+00, 1.e-32, 1.e-32, 1.e-32])\n",
      " array([1.e+00, 1.e-32, 1.e-32, 1.e-32])]\n",
      "q_pi: [3.33333333e-01 3.33333333e-01 3.33333333e-01 6.01617129e-36]\n",
      "efe: [-4.90031948 -4.90031948 -4.90031948 -9.90031948]\n"
     ]
    },
    {
     "ename": "TypeError",
     "evalue": "unhashable type: 'numpy.ndarray'",
     "output_type": "error",
     "traceback": [
      "\u001B[1;31m---------------------------------------------------------------------------\u001B[0m",
      "\u001B[1;31mTypeError\u001B[0m                                 Traceback (most recent call last)",
      "Cell \u001B[1;32mIn[37], line 1\u001B[0m\n\u001B[1;32m----> 1\u001B[0m \u001B[43mrun_active_inference\u001B[49m\u001B[43m(\u001B[49m\u001B[43mmy_agent\u001B[49m\u001B[43m,\u001B[49m\u001B[43m \u001B[49m\u001B[43mmy_env\u001B[49m\u001B[43m)\u001B[49m\n",
      "Cell \u001B[1;32mIn[36], line 13\u001B[0m, in \u001B[0;36mrun_active_inference\u001B[1;34m(agent, env, T, verbose)\u001B[0m\n\u001B[0;32m     11\u001B[0m chosen_action_id \u001B[38;5;241m=\u001B[39m agent\u001B[38;5;241m.\u001B[39msample_action()\n\u001B[0;32m     12\u001B[0m \u001B[38;5;28mprint\u001B[39m(\u001B[38;5;124mf\u001B[39m\u001B[38;5;124m'\u001B[39m\u001B[38;5;124mchosen_action_id: \u001B[39m\u001B[38;5;132;01m{\u001B[39;00mchosen_action_id\u001B[38;5;132;01m}\u001B[39;00m\u001B[38;5;130;01m\\n\u001B[39;00m\u001B[38;5;124mqs: \u001B[39m\u001B[38;5;132;01m{\u001B[39;00mqs\u001B[38;5;132;01m}\u001B[39;00m\u001B[38;5;130;01m\\n\u001B[39;00m\u001B[38;5;124mq_pi: \u001B[39m\u001B[38;5;132;01m{\u001B[39;00mq_pi\u001B[38;5;132;01m}\u001B[39;00m\u001B[38;5;130;01m\\n\u001B[39;00m\u001B[38;5;124mefe: \u001B[39m\u001B[38;5;132;01m{\u001B[39;00mefe\u001B[38;5;132;01m}\u001B[39;00m\u001B[38;5;124m'\u001B[39m)\n\u001B[1;32m---> 13\u001B[0m observation, reward, terminated, truncated, info \u001B[38;5;241m=\u001B[39m \u001B[43menv\u001B[49m\u001B[38;5;241;43m.\u001B[39;49m\u001B[43mstep\u001B[49m\u001B[43m(\u001B[49m\u001B[43mchosen_action_id\u001B[49m\u001B[43m)\u001B[49m\n\u001B[0;32m     14\u001B[0m obs_list \u001B[38;5;241m=\u001B[39m get_position_y_x(observation)\n\u001B[0;32m     15\u001B[0m obs \u001B[38;5;241m=\u001B[39m [o_y\u001B[38;5;241m.\u001B[39mindex(obs_list[\u001B[38;5;241m0\u001B[39m]), o_x\u001B[38;5;241m.\u001B[39mindex(obs_list[\u001B[38;5;241m1\u001B[39m]), o_tile_types\u001B[38;5;241m.\u001B[39mindex(obs_list[\u001B[38;5;241m2\u001B[39m])]\n",
      "File \u001B[1;32m~\\OneDrive\\Desktop\\Florida Tech\\Fall_2024\\ml_project\\active_inference_frozen_lake\\Lib\\site-packages\\gymnasium\\wrappers\\common.py:125\u001B[0m, in \u001B[0;36mTimeLimit.step\u001B[1;34m(self, action)\u001B[0m\n\u001B[0;32m    112\u001B[0m \u001B[38;5;28;01mdef\u001B[39;00m\u001B[38;5;250m \u001B[39m\u001B[38;5;21mstep\u001B[39m(\n\u001B[0;32m    113\u001B[0m     \u001B[38;5;28mself\u001B[39m, action: ActType\n\u001B[0;32m    114\u001B[0m ) \u001B[38;5;241m-\u001B[39m\u001B[38;5;241m>\u001B[39m \u001B[38;5;28mtuple\u001B[39m[ObsType, SupportsFloat, \u001B[38;5;28mbool\u001B[39m, \u001B[38;5;28mbool\u001B[39m, \u001B[38;5;28mdict\u001B[39m[\u001B[38;5;28mstr\u001B[39m, Any]]:\n\u001B[0;32m    115\u001B[0m \u001B[38;5;250m    \u001B[39m\u001B[38;5;124;03m\"\"\"Steps through the environment and if the number of steps elapsed exceeds ``max_episode_steps`` then truncate.\u001B[39;00m\n\u001B[0;32m    116\u001B[0m \n\u001B[0;32m    117\u001B[0m \u001B[38;5;124;03m    Args:\u001B[39;00m\n\u001B[1;32m   (...)\u001B[0m\n\u001B[0;32m    123\u001B[0m \n\u001B[0;32m    124\u001B[0m \u001B[38;5;124;03m    \"\"\"\u001B[39;00m\n\u001B[1;32m--> 125\u001B[0m     observation, reward, terminated, truncated, info \u001B[38;5;241m=\u001B[39m \u001B[38;5;28;43mself\u001B[39;49m\u001B[38;5;241;43m.\u001B[39;49m\u001B[43menv\u001B[49m\u001B[38;5;241;43m.\u001B[39;49m\u001B[43mstep\u001B[49m\u001B[43m(\u001B[49m\u001B[43maction\u001B[49m\u001B[43m)\u001B[49m\n\u001B[0;32m    126\u001B[0m     \u001B[38;5;28mself\u001B[39m\u001B[38;5;241m.\u001B[39m_elapsed_steps \u001B[38;5;241m+\u001B[39m\u001B[38;5;241m=\u001B[39m \u001B[38;5;241m1\u001B[39m\n\u001B[0;32m    128\u001B[0m     \u001B[38;5;28;01mif\u001B[39;00m \u001B[38;5;28mself\u001B[39m\u001B[38;5;241m.\u001B[39m_elapsed_steps \u001B[38;5;241m>\u001B[39m\u001B[38;5;241m=\u001B[39m \u001B[38;5;28mself\u001B[39m\u001B[38;5;241m.\u001B[39m_max_episode_steps:\n",
      "File \u001B[1;32m~\\OneDrive\\Desktop\\Florida Tech\\Fall_2024\\ml_project\\active_inference_frozen_lake\\Lib\\site-packages\\gymnasium\\wrappers\\common.py:393\u001B[0m, in \u001B[0;36mOrderEnforcing.step\u001B[1;34m(self, action)\u001B[0m\n\u001B[0;32m    391\u001B[0m \u001B[38;5;28;01mif\u001B[39;00m \u001B[38;5;129;01mnot\u001B[39;00m \u001B[38;5;28mself\u001B[39m\u001B[38;5;241m.\u001B[39m_has_reset:\n\u001B[0;32m    392\u001B[0m     \u001B[38;5;28;01mraise\u001B[39;00m ResetNeeded(\u001B[38;5;124m\"\u001B[39m\u001B[38;5;124mCannot call env.step() before calling env.reset()\u001B[39m\u001B[38;5;124m\"\u001B[39m)\n\u001B[1;32m--> 393\u001B[0m \u001B[38;5;28;01mreturn\u001B[39;00m \u001B[38;5;28;43msuper\u001B[39;49m\u001B[43m(\u001B[49m\u001B[43m)\u001B[49m\u001B[38;5;241;43m.\u001B[39;49m\u001B[43mstep\u001B[49m\u001B[43m(\u001B[49m\u001B[43maction\u001B[49m\u001B[43m)\u001B[49m\n",
      "File \u001B[1;32m~\\OneDrive\\Desktop\\Florida Tech\\Fall_2024\\ml_project\\active_inference_frozen_lake\\Lib\\site-packages\\gymnasium\\core.py:322\u001B[0m, in \u001B[0;36mWrapper.step\u001B[1;34m(self, action)\u001B[0m\n\u001B[0;32m    318\u001B[0m \u001B[38;5;28;01mdef\u001B[39;00m\u001B[38;5;250m \u001B[39m\u001B[38;5;21mstep\u001B[39m(\n\u001B[0;32m    319\u001B[0m     \u001B[38;5;28mself\u001B[39m, action: WrapperActType\n\u001B[0;32m    320\u001B[0m ) \u001B[38;5;241m-\u001B[39m\u001B[38;5;241m>\u001B[39m \u001B[38;5;28mtuple\u001B[39m[WrapperObsType, SupportsFloat, \u001B[38;5;28mbool\u001B[39m, \u001B[38;5;28mbool\u001B[39m, \u001B[38;5;28mdict\u001B[39m[\u001B[38;5;28mstr\u001B[39m, Any]]:\n\u001B[0;32m    321\u001B[0m \u001B[38;5;250m    \u001B[39m\u001B[38;5;124;03m\"\"\"Uses the :meth:`step` of the :attr:`env` that can be overwritten to change the returned data.\"\"\"\u001B[39;00m\n\u001B[1;32m--> 322\u001B[0m     \u001B[38;5;28;01mreturn\u001B[39;00m \u001B[38;5;28;43mself\u001B[39;49m\u001B[38;5;241;43m.\u001B[39;49m\u001B[43menv\u001B[49m\u001B[38;5;241;43m.\u001B[39;49m\u001B[43mstep\u001B[49m\u001B[43m(\u001B[49m\u001B[43maction\u001B[49m\u001B[43m)\u001B[49m\n",
      "File \u001B[1;32m~\\OneDrive\\Desktop\\Florida Tech\\Fall_2024\\ml_project\\active_inference_frozen_lake\\Lib\\site-packages\\gymnasium\\wrappers\\common.py:285\u001B[0m, in \u001B[0;36mPassiveEnvChecker.step\u001B[1;34m(self, action)\u001B[0m\n\u001B[0;32m    283\u001B[0m     \u001B[38;5;28;01mreturn\u001B[39;00m env_step_passive_checker(\u001B[38;5;28mself\u001B[39m\u001B[38;5;241m.\u001B[39menv, action)\n\u001B[0;32m    284\u001B[0m \u001B[38;5;28;01melse\u001B[39;00m:\n\u001B[1;32m--> 285\u001B[0m     \u001B[38;5;28;01mreturn\u001B[39;00m \u001B[38;5;28;43mself\u001B[39;49m\u001B[38;5;241;43m.\u001B[39;49m\u001B[43menv\u001B[49m\u001B[38;5;241;43m.\u001B[39;49m\u001B[43mstep\u001B[49m\u001B[43m(\u001B[49m\u001B[43maction\u001B[49m\u001B[43m)\u001B[49m\n",
      "File \u001B[1;32m~\\OneDrive\\Desktop\\Florida Tech\\Fall_2024\\ml_project\\active_inference_frozen_lake\\Lib\\site-packages\\gymnasium\\envs\\toy_text\\frozen_lake.py:301\u001B[0m, in \u001B[0;36mFrozenLakeEnv.step\u001B[1;34m(self, a)\u001B[0m\n\u001B[0;32m    300\u001B[0m \u001B[38;5;28;01mdef\u001B[39;00m\u001B[38;5;250m \u001B[39m\u001B[38;5;21mstep\u001B[39m(\u001B[38;5;28mself\u001B[39m, a):\n\u001B[1;32m--> 301\u001B[0m     transitions \u001B[38;5;241m=\u001B[39m \u001B[38;5;28;43mself\u001B[39;49m\u001B[38;5;241;43m.\u001B[39;49m\u001B[43mP\u001B[49m\u001B[43m[\u001B[49m\u001B[38;5;28;43mself\u001B[39;49m\u001B[38;5;241;43m.\u001B[39;49m\u001B[43ms\u001B[49m\u001B[43m]\u001B[49m\u001B[43m[\u001B[49m\u001B[43ma\u001B[49m\u001B[43m]\u001B[49m\n\u001B[0;32m    302\u001B[0m     i \u001B[38;5;241m=\u001B[39m categorical_sample([t[\u001B[38;5;241m0\u001B[39m] \u001B[38;5;28;01mfor\u001B[39;00m t \u001B[38;5;129;01min\u001B[39;00m transitions], \u001B[38;5;28mself\u001B[39m\u001B[38;5;241m.\u001B[39mnp_random)\n\u001B[0;32m    303\u001B[0m     p, s, r, t \u001B[38;5;241m=\u001B[39m transitions[i]\n",
      "\u001B[1;31mTypeError\u001B[0m: unhashable type: 'numpy.ndarray'"
     ]
    }
   ],
   "execution_count": 37
  }
 ],
 "metadata": {
  "kernelspec": {
   "display_name": "Python 3",
   "language": "python",
   "name": "python3"
  },
  "language_info": {
   "codemirror_mode": {
    "name": "ipython",
    "version": 2
   },
   "file_extension": ".py",
   "mimetype": "text/x-python",
   "name": "python",
   "nbconvert_exporter": "python",
   "pygments_lexer": "ipython2",
   "version": "2.7.6"
  }
 },
 "nbformat": 4,
 "nbformat_minor": 5
}
