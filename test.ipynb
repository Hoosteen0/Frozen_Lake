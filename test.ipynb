{
 "cells": [
  {
   "cell_type": "code",
   "id": "initial_id",
   "metadata": {
    "collapsed": true,
    "ExecuteTime": {
     "end_time": "2025-01-26T23:00:21.400039Z",
     "start_time": "2025-01-26T23:00:21.313582Z"
    }
   },
   "source": [
    "from pymdp import utils, agent\n",
    "import numpy as np\n",
    "import gymnasium as gym\n",
    "from gymnasium.envs.toy_text.frozen_lake import generate_random_map\n",
    "import matplotlib.pyplot as plt\n"
   ],
   "outputs": [],
   "execution_count": 1
  },
  {
   "metadata": {
    "ExecuteTime": {
     "end_time": "2025-01-26T23:06:10.808780Z",
     "start_time": "2025-01-26T23:06:10.804150Z"
    }
   },
   "cell_type": "code",
   "source": [
    "qs_hist = [np.array([np.array([1.e+00, 1.e-16, 1.e-16, 1.e-16, 1.e-16, 1.e-16, 1.e-16, 1.e-16, 1.e-16])]),\n",
    "            np.array([np.array([1.e-16, 1.e-16, 1.e-16, 1.e+00, 2.e-16, 2.e-16, 3.e-16, 3.e-16, 3.e-16])]),\n",
    "            np.array([np.array([1.e-16, 2.e-16, 3.e-16, 1.e-16, 1.e+00, 5.e-16, 1.e-16, 4.e-16, 7.e-16])]),\n",
    "            np.array([np.array([1.0e-16, 1.0e-16, 1.0e-16, 2.0e-16, 3.0e-16, 4.0e-16, 3.0e-16, 1.0e+00, 1.3e-15])])] # Shape: (4, 9)"
   ],
   "id": "5ac45aa21b33c5c5",
   "outputs": [],
   "execution_count": 3
  },
  {
   "metadata": {
    "ExecuteTime": {
     "end_time": "2025-01-26T23:14:01.843935Z",
     "start_time": "2025-01-26T23:14:01.664149Z"
    }
   },
   "cell_type": "code",
   "source": [
    "num_timesteps = len(qs_hist)\n",
    "num_timesteps\n",
    "\n",
    "fig, axes = plt.subplots(1, num_timesteps, sharey=True)\n",
    "cax = None\n",
    "for t in range(num_timesteps):\n",
    "    state_grid = qs_hist[t][0].reshape((3, 3))\n",
    "    ax = axes[t]\n",
    "    cax = ax.imshow(state_grid, vmin=0, vmax=1)\n",
    "    ax.set_title(f'Timestep {t}')\n",
    "    ax.set_xticks([])  # Remove x ticks\n",
    "    ax.set_yticks([])  # Remove y ticks\n",
    "fig.colorbar(cax, ax=axes, orientation='vertical', fraction=0.05)\n",
    "plt.show()"
   ],
   "id": "801e7e423ddc9530",
   "outputs": [
    {
     "data": {
      "text/plain": [
       "<Figure size 640x480 with 5 Axes>"
      ],
      "image/png": "[encoded data removed]"
     },
     "metadata": {},
     "output_type": "display_data"
    }
   ],
   "execution_count": 14
  },
  {
   "metadata": {
    "ExecuteTime": {
     "end_time": "2025-01-23T23:33:12.980904Z",
     "start_time": "2025-01-23T23:33:12.977025Z"
    }
   },
   "cell_type": "code",
   "source": [
    "env_map = generate_random_map(size=4)\n",
    "print(env_map)"
   ],
   "id": "3326a6042f4e4110",
   "outputs": [
    {
     "name": "stdout",
     "output_type": "stream",
     "text": [
      "['SFFH', 'FFHH', 'FFFH', 'FFFG']\n"
     ]
    }
   ],
   "execution_count": 2
  },
  {
   "metadata": {
    "ExecuteTime": {
     "end_time": "2025-01-23T23:33:14.721561Z",
     "start_time": "2025-01-23T23:33:14.713785Z"
    }
   },
   "cell_type": "code",
   "source": "env_map[3][1]",
   "id": "61ce7adaebf4b9dc",
   "outputs": [
    {
     "data": {
      "text/plain": [
       "'F'"
      ]
     },
     "execution_count": 3,
     "metadata": {},
     "output_type": "execute_result"
    }
   ],
   "execution_count": 3
  },
  {
   "metadata": {
    "ExecuteTime": {
     "end_time": "2025-01-23T23:33:19.231721Z",
     "start_time": "2025-01-23T23:33:19.227106Z"
    }
   },
   "cell_type": "code",
   "source": [
    "s_loc = [i for i in range(16)]\n",
    "S = [s_loc]\n",
    "\n",
    "o_loc = [i for i in range(16)]\n",
    "o_tile_type = ['ice', 'hole', 'goal']\n",
    "O = [o_loc, o_tile_type]\n",
    "\n",
    "u_mov = ['left', 'right', 'up', 'down']\n",
    "U = [u_mov]\n",
    "\n",
    "env_rows = 4\n",
    "env_cols = 4"
   ],
   "id": "c9039c11b0bd189c",
   "outputs": [],
   "execution_count": 4
  },
  {
   "metadata": {
    "ExecuteTime": {
     "end_time": "2025-01-23T22:13:09.742529Z",
     "start_time": "2025-01-23T22:13:09.736730Z"
    }
   },
   "cell_type": "code",
   "source": [
    "def create_a(observations, states):\n",
    "    num_obs = [len(o_factor) for o_factor in observations]\n",
    "    num_states = [len(state_factor) for state_factor in states]\n",
    "    \n",
    "    A = utils.initialize_empty_A(num_obs=num_obs, num_states=num_states)\n",
    "    return A"
   ],
   "id": "33a37a3613c374bd",
   "outputs": [],
   "execution_count": 71
  },
  {
   "metadata": {
    "ExecuteTime": {
     "end_time": "2025-01-23T22:13:32.467246Z",
     "start_time": "2025-01-23T22:13:32.463627Z"
    }
   },
   "cell_type": "code",
   "source": "A = create_a(O, S)",
   "id": "3fd91e5eddb8270d",
   "outputs": [],
   "execution_count": 72
  },
  {
   "metadata": {
    "ExecuteTime": {
     "end_time": "2025-01-23T22:13:51.241834Z",
     "start_time": "2025-01-23T22:13:51.238182Z"
    }
   },
   "cell_type": "code",
   "source": [
    "for a in A:\n",
    "    print(a.shape)"
   ],
   "id": "d62e149cf8843c",
   "outputs": [
    {
     "name": "stdout",
     "output_type": "stream",
     "text": [
      "(16, 16)\n",
      "(3, 16)\n"
     ]
    }
   ],
   "execution_count": 74
  },
  {
   "metadata": {
    "ExecuteTime": {
     "end_time": "2025-01-23T22:18:01.319261Z",
     "start_time": "2025-01-23T22:18:01.315075Z"
    }
   },
   "cell_type": "code",
   "source": [
    "# filling out location obs given location state\n",
    "A[0][:, :] = np.eye(A[0].shape[0])"
   ],
   "id": "e4e0fd2e2b8855c2",
   "outputs": [],
   "execution_count": 76
  },
  {
   "metadata": {
    "ExecuteTime": {
     "end_time": "2025-01-23T22:34:40.592964Z",
     "start_time": "2025-01-23T22:34:40.588841Z"
    }
   },
   "cell_type": "code",
   "source": [
    "A[1][0,:].shape[0]\n",
    "len(env_map)"
   ],
   "id": "3afd9a50a7998d97",
   "outputs": [
    {
     "data": {
      "text/plain": [
       "4"
      ]
     },
     "execution_count": 94,
     "metadata": {},
     "output_type": "execute_result"
    }
   ],
   "execution_count": 94
  },
  {
   "metadata": {
    "ExecuteTime": {
     "end_time": "2025-01-23T22:33:08.415140Z",
     "start_time": "2025-01-23T22:33:08.411018Z"
    }
   },
   "cell_type": "code",
   "source": [
    "# filling out tile type obs (row) given location state (col)\n",
    "for i in range(env_rows):\n",
    "    for j in range(env_cols):\n",
    "        curr_pos = (i * env_cols) + j\n",
    "        \n",
    "        if env_map[i][j] == 'G':\n",
    "            A[1][2, curr_pos] = 1.0\n",
    "        elif env_map[i][j] == 'H':\n",
    "            A[1][1, curr_pos] = 1.0\n",
    "        else:\n",
    "            A[1][0, curr_pos] = 1.0"
   ],
   "id": "def70dc0d104e76e",
   "outputs": [],
   "execution_count": 92
  },
  {
   "metadata": {
    "ExecuteTime": {
     "end_time": "2025-01-23T22:33:20.247831Z",
     "start_time": "2025-01-23T22:33:19.911601Z"
    }
   },
   "cell_type": "code",
   "source": [
    "utils.plot_likelihood(A[0][:, :], title='location obs (row) given location state (col)')\n",
    "utils.plot_likelihood(A[1][:, :], title='tile type obs (row) given location state (col)')"
   ],
   "id": "80ef1db256548c6c",
   "outputs": [
    {
     "data": {
      "text/plain": [
       "<Figure size 640x480 with 2 Axes>"
      ],
      "image/png": "[encoded data removed]"
     },
     "metadata": {},
     "output_type": "display_data"
    },
    {
     "data": {
      "text/plain": [
       "<Figure size 640x480 with 2 Axes>"
      ],
      "image/png": "[encoded data removed]"
     },
     "metadata": {},
     "output_type": "display_data"
    }
   ],
   "execution_count": 93
  },
  {
   "metadata": {
    "ExecuteTime": {
     "end_time": "2025-01-23T23:33:30.584623Z",
     "start_time": "2025-01-23T23:33:30.581029Z"
    }
   },
   "cell_type": "code",
   "source": [
    "def create_B(states, actions):\n",
    "    num_states = [len(state_factor) for state_factor in states]\n",
    "    num_controls = [len(control_factor) for control_factor in actions]\n",
    "    empty_B = utils.initialize_empty_B(num_states, num_controls)\n",
    "    return empty_B"
   ],
   "id": "110ca7a7b7e8f918",
   "outputs": [],
   "execution_count": 5
  },
  {
   "metadata": {
    "ExecuteTime": {
     "end_time": "2025-01-23T23:33:32.647410Z",
     "start_time": "2025-01-23T23:33:32.643797Z"
    }
   },
   "cell_type": "code",
   "source": "B = create_B(S, U)",
   "id": "1ea5a02c99c6d7c6",
   "outputs": [],
   "execution_count": 6
  },
  {
   "metadata": {
    "ExecuteTime": {
     "end_time": "2025-01-23T23:33:34.701717Z",
     "start_time": "2025-01-23T23:33:34.697464Z"
    }
   },
   "cell_type": "code",
   "source": [
    "for b in B:\n",
    "    print(b.shape) # structure is b[loc | loc, action] for the transition model\n",
    "    # meaning we index like b[new loc, given prev loc, prev action]"
   ],
   "id": "7f42527553822b6",
   "outputs": [
    {
     "name": "stdout",
     "output_type": "stream",
     "text": [
      "(16, 16, 4)\n"
     ]
    }
   ],
   "execution_count": 7
  },
  {
   "metadata": {
    "ExecuteTime": {
     "end_time": "2025-01-23T23:33:37.041070Z",
     "start_time": "2025-01-23T23:33:36.533448Z"
    }
   },
   "cell_type": "code",
   "source": "utils.plot_likelihood(B[0][:,:,0])",
   "id": "a296b6fd788f3be0",
   "outputs": [
    {
     "data": {
      "text/plain": [
       "<Figure size 640x480 with 2 Axes>"
      ],
      "image/png": "[encoded data removed]"
     },
     "metadata": {},
     "output_type": "display_data"
    }
   ],
   "execution_count": 8
  },
  {
   "metadata": {
    "ExecuteTime": {
     "end_time": "2025-01-23T23:49:58.845165Z",
     "start_time": "2025-01-23T23:49:58.422417Z"
    }
   },
   "cell_type": "code",
   "source": [
    "for i in range(4):\n",
    "    for j in range(4):\n",
    "        curr_pos = (i * 4) + j\n",
    "\n",
    "        # going up\n",
    "        if i == 0:\n",
    "            B[0][curr_pos, curr_pos, 2] = 1.0\n",
    "        if i < 4 - 1:\n",
    "            # print(curr_pos, i, j)\n",
    "            B[0][curr_pos, curr_pos+4, 2] = 1.0\n",
    "\n",
    "        # going left\n",
    "        if j == 0:\n",
    "            B[0][curr_pos, curr_pos:curr_pos+2, 0] = 1.0\n",
    "        elif j == 4 - 1:\n",
    "            pass\n",
    "            # B[0][curr_pos, curr_pos-1, 0] = 1.0\n",
    "        else:\n",
    "            B[0][curr_pos, curr_pos+1, 0] = 1.0\n",
    "\n",
    "# going right looks like a flip of left horizontally and then vertically\n",
    "B[0][:,:,1] = np.fliplr(np.flipud(B[0][:,:,0]))\n",
    "\n",
    "# going down is up flipped over horizontal and vertical\n",
    "B[0][:, :, 3] = np.fliplr(np.flipud(B[0][:, :, 2]))\n",
    "            \n",
    "utils.plot_likelihood(B[0][:, :, 0])\n",
    "utils.plot_likelihood(B[0][:, :, 2])"
   ],
   "id": "79c119d999815178",
   "outputs": [
    {
     "data": {
      "text/plain": [
       "<Figure size 640x480 with 2 Axes>"
      ],
      "image/png": "[encoded data removed]"
     },
     "metadata": {},
     "output_type": "display_data"
    },
    {
     "data": {
      "text/plain": [
       "<Figure size 640x480 with 2 Axes>"
      ],
      "image/png": "[encoded data removed]"
     },
     "metadata": {},
     "output_type": "display_data"
    }
   ],
   "execution_count": 12
  }
 ],
 "metadata": {
  "kernelspec": {
   "display_name": "Python 3",
   "language": "python",
   "name": "python3"
  },
  "language_info": {
   "codemirror_mode": {
    "name": "ipython",
    "version": 2
   },
   "file_extension": ".py",
   "mimetype": "text/x-python",
   "name": "python",
   "nbconvert_exporter": "python",
   "pygments_lexer": "ipython2",
   "version": "2.7.6"
  }
 },
 "nbformat": 4,
 "nbformat_minor": 5
}
