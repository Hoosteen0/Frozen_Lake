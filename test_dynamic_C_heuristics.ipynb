{
 "cells": [
  {
   "metadata": {
    "ExecuteTime": {
     "end_time": "2025-02-10T05:11:46.958497Z",
     "start_time": "2025-02-10T05:11:46.954399Z"
    }
   },
   "cell_type": "code",
   "source": [
    "import numpy as np\n",
    "import matplotlib.pyplot as plt\n",
    "import seaborn as sns"
   ],
   "id": "f6c64d5b6968430f",
   "outputs": [],
   "execution_count": 1
  },
  {
   "metadata": {},
   "cell_type": "markdown",
   "source": "In this notebook, I am going to explore the probability diffusion heuristic from Kaplan and Friston's \"Planning and Navigation as Active Inference\"",
   "id": "5d4280e5b9d0f460"
  },
  {
   "metadata": {
    "ExecuteTime": {
     "end_time": "2025-02-10T06:11:47.628365Z",
     "start_time": "2025-02-10T06:11:47.623382Z"
    }
   },
   "cell_type": "code",
   "source": [
    "environment = ['OOOO',\n",
    "               'COCO',\n",
    "               'OOOO',\n",
    "               'COCG'] # O: open; C: closed; G: goal.\n",
    "actions = ['left', 'down', 'right', 'up']\n",
    "env_size = 8 # len(environment)\n",
    "num_occurrences = 64 # sum(map((lambda x: len(x)), environment))\n",
    "# print(num_occurrences)\n",
    "B = np.zeros((num_occurrences, num_occurrences, len(actions)))\n",
    "# print(B[:, :, 0])"
   ],
   "id": "eca1f052c755ddf0",
   "outputs": [],
   "execution_count": 82
  },
  {
   "metadata": {
    "ExecuteTime": {
     "end_time": "2025-02-10T06:11:50.207508Z",
     "start_time": "2025-02-10T06:11:50.203820Z"
    }
   },
   "cell_type": "code",
   "source": [
    "A = np.eye(num_occurrences)\n",
    "# print(A)"
   ],
   "id": "d034cb900b797a33",
   "outputs": [],
   "execution_count": 83
  },
  {
   "metadata": {
    "ExecuteTime": {
     "end_time": "2025-02-10T06:11:53.059972Z",
     "start_time": "2025-02-10T06:11:53.054746Z"
    }
   },
   "cell_type": "code",
   "source": [
    "# TODO: We need to adjust this to account for obstacles\n",
    "for i in range(env_size):\n",
    "    for j in range(env_size):\n",
    "        curr_pos = (i * env_size) + j\n",
    "        # going up\n",
    "        if i == 0:\n",
    "            B[curr_pos, curr_pos, 3] = 1.0\n",
    "        if i < env_size - 1:\n",
    "            # print(curr_pos, i, j)\n",
    "            B[curr_pos, curr_pos+env_size, 3] = 1.0\n",
    "\n",
    "        # going left\n",
    "        if j == 0:\n",
    "            B[curr_pos, curr_pos:curr_pos+2, 0] = 1.0\n",
    "        elif j == env_size - 1:\n",
    "            pass\n",
    "            # B[curr_pos, curr_pos-1, 0] = 1.0\n",
    "        else:\n",
    "            B[curr_pos, curr_pos+1, 0] = 1.0\n",
    "\n",
    "    # going right looks like a flip of left horizontally and then vertically\n",
    "    B[:,:,2] = np.fliplr(np.flipud(B[:,:,0]))\n",
    "\n",
    "    # going down is up flipped over horizontal and vertical\n",
    "    B[:, :, 1] = np.fliplr(np.flipud(B[:, :, 3]))\n",
    "    \n",
    "# print(B[:,:,0])"
   ],
   "id": "1f6cdb7e1d239985",
   "outputs": [],
   "execution_count": 84
  },
  {
   "metadata": {
    "ExecuteTime": {
     "end_time": "2025-02-10T06:11:56.428360Z",
     "start_time": "2025-02-10T06:11:56.423376Z"
    }
   },
   "cell_type": "code",
   "source": [
    "# modify the transition function \"B\" to account for absorbing state: goal\n",
    "B[:, -1, :] = 0.0\n",
    "B[-1, -1, :] = 1.0\n",
    "# print(B[:,:,0])"
   ],
   "id": "a1c33ce6a6c98a52",
   "outputs": [],
   "execution_count": 85
  },
  {
   "metadata": {},
   "cell_type": "markdown",
   "source": "Now, let's try visualizing our current transition function",
   "id": "e69adc08f9c1fad0"
  },
  {
   "metadata": {
    "ExecuteTime": {
     "end_time": "2025-02-10T06:04:31.035938Z",
     "start_time": "2025-02-10T06:04:30.196407Z"
    }
   },
   "cell_type": "code",
   "source": [
    "# B /= B.sum(axis=0, keepdims=True)\n",
    "\n",
    "sns.set_theme()\n",
    "fig, axes = plt.subplots(1, len(actions), figsize=(16, 4), sharey=True)\n",
    "color_map = sns.color_palette('flare', as_cmap=True)\n",
    "\n",
    "for i in range(len(actions)):\n",
    "    ax = axes[i]\n",
    "    sns.heatmap(B[:,:,i], cmap=color_map, ax=ax)\n",
    "    ax.set_title(f'p(s_x | s_x-1, action={actions[i]})')\n",
    "    ax.set_xlabel(f's_x-1')\n",
    "    ax.set_ylabel(f's_x')\n",
    "\n",
    "plt.show()"
   ],
   "id": "fea777cd173c516f",
   "outputs": [
    {
     "data": {
      "text/plain": [
       "<Figure size 1600x400 with 8 Axes>"
      ],
      "image/png": "[encoded data removed]"
     },
     "metadata": {},
     "output_type": "display_data"
    }
   ],
   "execution_count": 61
  },
  {
   "metadata": {},
   "cell_type": "markdown",
   "source": [
    "# \"Planning and Navigation as Active Inference\" - Kaplan & Friston (2018)\n",
    "One of the big ideas from my reading was section 7, \"Prior preferences, constraints, and goals\" where \"purposeful\" and goal oriented navigation seems to emerge from an agent based on prior preferences, or the C matrix.\n",
    "\n",
    "The prior preferences are \"preferable\" observations, like location, or what I am observing. These are the observations the agent would like to spend as much time in as possible. An agent can be equipped with goal oriented behavior, if it's prior preferences are recomputed at each timestep, and a heuristic will be applied to help guide it towards its goals.\n",
    "\n",
    "Here, I'm going to try to implement and understand it.\n",
    "\n",
    "#### Purposeful Navigation\n",
    "\n",
    "The idea is that an agent will choose locations (it is observing) that will lead it towards the goal, i.e. it will want to occupy (and spend most of its time at) the locations on the shortest path to the goal, so we will need to recompute which locations it wants to occupy at every timestep, until it reaches the goal location. As written in the paper\n",
    "\n",
    "$$\n",
    "C^1_\\tau = -\\ln(P(o^1_\\tau)) = 16 \\cdot [Ts_1 < e^-3] - \\ln(Ts_T)\n",
    "$$\n",
    "\n",
    "where $Ts_1$ means the starting location vector (or column from B where we want to start from) times the diffused transition matrix T, and $Ts_T$ means the goal location vector times the diffused transition matrix T\n",
    "\n",
    "How do we calculate T then?\n",
    "\n",
    "Firstly, Calculate T based on the currently believed structure of the maze or grid, following the definition:\n",
    "$$\n",
    "T_{ij} = \\begin{cases}\n",
    "1 - \\sum_{i} T_{ij}, & \\text{if } i = j \\\\ \n",
    "A_i, & \\text{if } \\exists u: B^u_{ij} > 0 \\\\\n",
    "0, & \\text{otherwise}\n",
    "\\end{cases}\n",
    "$$\n",
    "\n",
    "Then, diffuse T by:\n",
    "$$\n",
    "T = exp(T)\n",
    "$$\n",
    "\n",
    "Finally, apply the first introduced equation\n",
    "$$\n",
    "C^1_\\tau = 16 \\cdot [Ts_1 < e^-3] - \\ln(Ts_T)\n",
    "$$"
   ],
   "id": "2ec40f9e980a3edd"
  },
  {
   "metadata": {},
   "cell_type": "markdown",
   "source": [
    "sidenote: the paper is not totally clear if $A_i$ is the row or if there is an error in the spelling.\n",
    "anyways the implementation is found below."
   ],
   "id": "6b50a44bad553183"
  },
  {
   "metadata": {
    "ExecuteTime": {
     "end_time": "2025-02-10T06:04:36.811899Z",
     "start_time": "2025-02-10T06:04:36.807217Z"
    }
   },
   "cell_type": "code",
   "source": [
    "T = np.zeros((num_occurrences, num_occurrences))\n",
    "# print(T)"
   ],
   "id": "bda9c8b6fc83bae5",
   "outputs": [],
   "execution_count": 62
  },
  {
   "metadata": {
    "ExecuteTime": {
     "end_time": "2025-02-10T06:04:39.829634Z",
     "start_time": "2025-02-10T06:04:39.820916Z"
    }
   },
   "cell_type": "code",
   "source": [
    "for i in range(T.shape[0]):\n",
    "    for j in range(T.shape[1]):\n",
    "        if i != j:\n",
    "            if np.any(B[i, j, :] > 0):\n",
    "                T[i, j] = np.sum(A[i, :])\n",
    "            else:\n",
    "                T[i, j] = 0.0\n",
    "for i in range(T.shape[0]):\n",
    "    T[i, i] = 1 - np.sum(T[i, :])\n",
    "print(T)"
   ],
   "id": "82648fe476dba237",
   "outputs": [
    {
     "name": "stdout",
     "output_type": "stream",
     "text": [
      "[[-1.  1.  0.  0.  1.  0.  0.  0.  0.  0.  0.  0.  0.  0.  0.  0.]\n",
      " [ 1. -2.  1.  0.  0.  1.  0.  0.  0.  0.  0.  0.  0.  0.  0.  0.]\n",
      " [ 0.  1. -2.  1.  0.  0.  1.  0.  0.  0.  0.  0.  0.  0.  0.  0.]\n",
      " [ 0.  0.  1. -1.  0.  0.  0.  1.  0.  0.  0.  0.  0.  0.  0.  0.]\n",
      " [ 1.  0.  0.  0. -2.  1.  0.  0.  1.  0.  0.  0.  0.  0.  0.  0.]\n",
      " [ 0.  1.  0.  0.  1. -3.  1.  0.  0.  1.  0.  0.  0.  0.  0.  0.]\n",
      " [ 0.  0.  1.  0.  0.  1. -3.  1.  0.  0.  1.  0.  0.  0.  0.  0.]\n",
      " [ 0.  0.  0.  1.  0.  0.  1. -2.  0.  0.  0.  1.  0.  0.  0.  0.]\n",
      " [ 0.  0.  0.  0.  1.  0.  0.  0. -2.  1.  0.  0.  1.  0.  0.  0.]\n",
      " [ 0.  0.  0.  0.  0.  1.  0.  0.  1. -3.  1.  0.  0.  1.  0.  0.]\n",
      " [ 0.  0.  0.  0.  0.  0.  1.  0.  0.  1. -3.  1.  0.  0.  1.  0.]\n",
      " [ 0.  0.  0.  0.  0.  0.  0.  1.  0.  0.  1. -1.  0.  0.  0.  0.]\n",
      " [ 0.  0.  0.  0.  0.  0.  0.  0.  1.  0.  0.  0. -1.  1.  0.  0.]\n",
      " [ 0.  0.  0.  0.  0.  0.  0.  0.  0.  1.  0.  0.  1. -2.  1.  0.]\n",
      " [ 0.  0.  0.  0.  0.  0.  0.  0.  0.  0.  1.  0.  0.  1. -1.  0.]\n",
      " [ 0.  0.  0.  0.  0.  0.  0.  0.  0.  0.  0.  1.  0.  0.  1. -1.]]\n"
     ]
    }
   ],
   "execution_count": 63
  },
  {
   "metadata": {
    "ExecuteTime": {
     "end_time": "2025-02-10T06:04:46.032764Z",
     "start_time": "2025-02-10T06:04:45.545369Z"
    }
   },
   "cell_type": "code",
   "source": [
    "fig, ax = plt.subplots(1, 1)\n",
    "sns.heatmap(T, ax=ax, cmap=color_map)"
   ],
   "id": "67e49c3f22967efb",
   "outputs": [
    {
     "data": {
      "text/plain": [
       "<Axes: >"
      ]
     },
     "execution_count": 64,
     "metadata": {},
     "output_type": "execute_result"
    },
    {
     "data": {
      "text/plain": [
       "<Figure size 640x480 with 2 Axes>"
      ],
      "image/png": "[encoded data removed]"
     },
     "metadata": {},
     "output_type": "display_data"
    }
   ],
   "execution_count": 64
  },
  {
   "metadata": {
    "ExecuteTime": {
     "end_time": "2025-02-10T06:04:49.146499Z",
     "start_time": "2025-02-10T06:04:48.810367Z"
    }
   },
   "cell_type": "code",
   "source": [
    "T_new = np.exp(T)\n",
    "fig, ax = plt.subplots(1, 1)\n",
    "sns.heatmap(T_new, ax=ax, cmap=color_map)"
   ],
   "id": "af3ca38152c9e525",
   "outputs": [
    {
     "data": {
      "text/plain": [
       "<Axes: >"
      ]
     },
     "execution_count": 65,
     "metadata": {},
     "output_type": "execute_result"
    },
    {
     "data": {
      "text/plain": [
       "<Figure size 640x480 with 2 Axes>"
      ],
      "image/png": "[encoded data removed]"
     },
     "metadata": {},
     "output_type": "display_data"
    }
   ],
   "execution_count": 65
  },
  {
   "metadata": {
    "ExecuteTime": {
     "end_time": "2025-02-10T06:04:56.617443Z",
     "start_time": "2025-02-10T06:04:56.612652Z"
    }
   },
   "cell_type": "code",
   "source": [
    "C = np.zeros(num_occurrences)\n",
    "print(C)"
   ],
   "id": "fcd05017d45b322a",
   "outputs": [
    {
     "name": "stdout",
     "output_type": "stream",
     "text": [
      "[0. 0. 0. 0. 0. 0. 0. 0. 0. 0. 0. 0. 0. 0. 0. 0.]\n"
     ]
    }
   ],
   "execution_count": 66
  },
  {
   "metadata": {
    "ExecuteTime": {
     "end_time": "2025-02-10T06:04:58.587513Z",
     "start_time": "2025-02-10T06:04:58.581975Z"
    }
   },
   "cell_type": "code",
   "source": [
    "s_start = np.zeros(num_occurrences)\n",
    "s_start[0] = 1.0\n",
    "\n",
    "s_goal = np.zeros(num_occurrences)\n",
    "s_goal[-1] = 1.0\n",
    "print(s_start)\n",
    "print(s_goal)"
   ],
   "id": "50956a61dd66218",
   "outputs": [
    {
     "name": "stdout",
     "output_type": "stream",
     "text": [
      "[1. 0. 0. 0. 0. 0. 0. 0. 0. 0. 0. 0. 0. 0. 0. 0.]\n",
      "[0. 0. 0. 0. 0. 0. 0. 0. 0. 0. 0. 0. 0. 0. 0. 1.]\n"
     ]
    }
   ],
   "execution_count": 67
  },
  {
   "metadata": {
    "ExecuteTime": {
     "end_time": "2025-02-10T06:05:00.776951Z",
     "start_time": "2025-02-10T06:05:00.770500Z"
    }
   },
   "cell_type": "code",
   "source": "np.dot(T_new, s_start)",
   "id": "7fd30dd284a15683",
   "outputs": [
    {
     "data": {
      "text/plain": [
       "array([0.36787944, 2.71828183, 1.        , 1.        , 2.71828183,\n",
       "       1.        , 1.        , 1.        , 1.        , 1.        ,\n",
       "       1.        , 1.        , 1.        , 1.        , 1.        ,\n",
       "       1.        ])"
      ]
     },
     "execution_count": 68,
     "metadata": {},
     "output_type": "execute_result"
    }
   ],
   "execution_count": 68
  },
  {
   "metadata": {
    "ExecuteTime": {
     "end_time": "2025-02-10T06:05:03.432835Z",
     "start_time": "2025-02-10T06:05:03.427134Z"
    }
   },
   "cell_type": "code",
   "source": "(16 * (np.dot(T_new, s_start) < np.exp(-3)).astype(int))",
   "id": "4758688e825f54a1",
   "outputs": [
    {
     "data": {
      "text/plain": [
       "array([0, 0, 0, 0, 0, 0, 0, 0, 0, 0, 0, 0, 0, 0, 0, 0])"
      ]
     },
     "execution_count": 69,
     "metadata": {},
     "output_type": "execute_result"
    }
   ],
   "execution_count": 69
  },
  {
   "metadata": {
    "ExecuteTime": {
     "end_time": "2025-02-10T06:05:05.929179Z",
     "start_time": "2025-02-10T06:05:05.922883Z"
    }
   },
   "cell_type": "code",
   "source": "np.log(np.dot(T_new, s_goal))",
   "id": "d71a28a06a5ef7fd",
   "outputs": [
    {
     "data": {
      "text/plain": [
       "array([ 0.,  0.,  0.,  0.,  0.,  0.,  0.,  0.,  0.,  0.,  0.,  0.,  0.,\n",
       "        0.,  0., -1.])"
      ]
     },
     "execution_count": 70,
     "metadata": {},
     "output_type": "execute_result"
    }
   ],
   "execution_count": 70
  },
  {
   "metadata": {
    "ExecuteTime": {
     "end_time": "2025-02-10T06:05:08.318870Z",
     "start_time": "2025-02-10T06:05:08.313117Z"
    }
   },
   "cell_type": "code",
   "source": [
    "C = (16 * (np.dot(T_new, s_start) < np.exp(-3)).astype(int)) - np.log(np.dot(T_new, s_goal))\n",
    "print(C)"
   ],
   "id": "fdccc8820c455f61",
   "outputs": [
    {
     "name": "stdout",
     "output_type": "stream",
     "text": [
      "[0. 0. 0. 0. 0. 0. 0. 0. 0. 0. 0. 0. 0. 0. 0. 1.]\n"
     ]
    }
   ],
   "execution_count": 71
  },
  {
   "metadata": {
    "ExecuteTime": {
     "end_time": "2025-02-10T06:05:10.527435Z",
     "start_time": "2025-02-10T06:05:10.383221Z"
    }
   },
   "cell_type": "code",
   "source": [
    "C_grid = np.reshape(C, (env_size, env_size))\n",
    "fig, ax = plt.subplots(1, 1)\n",
    "sns.heatmap(C_grid, ax=ax, cmap=color_map)"
   ],
   "id": "9cfd7d7dc4a17571",
   "outputs": [
    {
     "data": {
      "text/plain": [
       "<Axes: >"
      ]
     },
     "execution_count": 72,
     "metadata": {},
     "output_type": "execute_result"
    },
    {
     "data": {
      "text/plain": [
       "<Figure size 640x480 with 2 Axes>"
      ],
      "image/png": "[encoded data removed]"
     },
     "metadata": {},
     "output_type": "display_data"
    }
   ],
   "execution_count": 72
  },
  {
   "metadata": {
    "ExecuteTime": {
     "end_time": "2025-02-10T06:13:17.736537Z",
     "start_time": "2025-02-10T06:13:17.730465Z"
    }
   },
   "cell_type": "code",
   "source": [
    "def recalculate_C(num_occurrences, A, B, current_pos: int, goal_pos: int):\n",
    "    T = np.zeros((num_occurrences, num_occurrences))\n",
    "    # print(T)\n",
    "    for i in range(T.shape[0]):\n",
    "        for j in range(T.shape[1]):\n",
    "            if i != j:\n",
    "                if np.any(B[i, j, :] > 0):\n",
    "                    T[i, j] = np.sum(A[i, :])\n",
    "                else:\n",
    "                    T[i, j] = 0.0\n",
    "    for i in range(T.shape[0]):\n",
    "        T[i, i] = 1 - np.sum(T[i, :])\n",
    "    T = np.exp(T)\n",
    "    # print(T)\n",
    "    C = np.zeros(num_occurrences)\n",
    "    s_start = np.zeros(num_occurrences)\n",
    "    s_start[current_pos] = 1.0\n",
    "    \n",
    "    s_goal = np.zeros(num_occurrences)\n",
    "    s_goal[goal_pos] = 1.0\n",
    "    C = (16 * (np.dot(T, s_start) < np.exp(-3)).astype(int)) - np.log(np.dot(T, s_goal))\n",
    "    return C"
   ],
   "id": "1e4d25f47da5b41e",
   "outputs": [],
   "execution_count": 87
  },
  {
   "metadata": {
    "ExecuteTime": {
     "end_time": "2025-02-10T06:14:48.908850Z",
     "start_time": "2025-02-10T06:14:48.767231Z"
    }
   },
   "cell_type": "code",
   "source": [
    "c_1 = recalculate_C(num_occurrences, A, B, current_pos=58, goal_pos=37)\n",
    "print(f'c_1: {c_1}')\n",
    "c_2 = recalculate_C(num_occurrences, A, B, current_pos=31, goal_pos=37)\n",
    "print(f'c_2: {c_2}')\n",
    "c_3 = recalculate_C(num_occurrences, A, B, current_pos=34, goal_pos=37)\n",
    "print(f'c_3: {c_3}')\n",
    "c_4 = recalculate_C(num_occurrences, A, B, current_pos=33, goal_pos=37)\n",
    "print(f'c_4: {c_4}')"
   ],
   "id": "efdc2f267a188502",
   "outputs": [
    {
     "name": "stdout",
     "output_type": "stream",
     "text": [
      "c_1: [ 0.  0.  0.  0.  0.  0.  0.  0.  0.  0.  0.  0.  0.  0.  0.  0.  0.  0.\n",
      "  0.  0.  0.  0.  0.  0.  0.  0.  0.  0.  0. -1.  0.  0.  0.  0.  0.  0.\n",
      " -1.  3. -1.  0.  0.  0.  0.  0.  0. -1.  0.  0.  0.  0.  0.  0.  0.  0.\n",
      "  0.  0.  0.  0.  0.  0.  0.  0.  0.  0.]\n",
      "c_2: [ 0.  0.  0.  0.  0.  0.  0.  0.  0.  0.  0.  0.  0.  0.  0.  0.  0.  0.\n",
      "  0.  0.  0.  0.  0.  0.  0.  0.  0.  0.  0. -1.  0.  0.  0.  0.  0.  0.\n",
      " -1.  3. -1.  0.  0.  0.  0.  0.  0. -1.  0.  0.  0.  0.  0.  0.  0.  0.\n",
      "  0.  0.  0.  0.  0.  0.  0.  0.  0.  0.]\n",
      "c_3: [ 0.  0.  0.  0.  0.  0.  0.  0.  0.  0.  0.  0.  0.  0.  0.  0.  0.  0.\n",
      "  0.  0.  0.  0.  0.  0.  0.  0.  0.  0.  0. -1.  0.  0.  0.  0.  0.  0.\n",
      " -1.  3. -1.  0.  0.  0.  0.  0.  0. -1.  0.  0.  0.  0.  0.  0.  0.  0.\n",
      "  0.  0.  0.  0.  0.  0.  0.  0.  0.  0.]\n",
      "c_4: [ 0.  0.  0.  0.  0.  0.  0.  0.  0.  0.  0.  0.  0.  0.  0.  0.  0.  0.\n",
      "  0.  0.  0.  0.  0.  0.  0.  0.  0.  0.  0. -1.  0.  0.  0.  0.  0.  0.\n",
      " -1.  3. -1.  0.  0.  0.  0.  0.  0. -1.  0.  0.  0.  0.  0.  0.  0.  0.\n",
      "  0.  0.  0.  0.  0.  0.  0.  0.  0.  0.]\n"
     ]
    }
   ],
   "execution_count": 90
  },
  {
   "metadata": {
    "ExecuteTime": {
     "end_time": "2025-02-10T06:15:01.775580Z",
     "start_time": "2025-02-10T06:15:01.606629Z"
    }
   },
   "cell_type": "code",
   "source": [
    "C_grid = np.reshape(c_4, (env_size, env_size))\n",
    "fig, ax = plt.subplots(1, 1)\n",
    "sns.heatmap(C_grid, ax=ax, cmap=color_map)"
   ],
   "id": "cedf797199e2f7cd",
   "outputs": [
    {
     "data": {
      "text/plain": [
       "<Axes: >"
      ]
     },
     "execution_count": 91,
     "metadata": {},
     "output_type": "execute_result"
    },
    {
     "data": {
      "text/plain": [
       "<Figure size 640x480 with 2 Axes>"
      ],
      "image/png": "[encoded data removed]"
     },
     "metadata": {},
     "output_type": "display_data"
    }
   ],
   "execution_count": 91
  }
 ],
 "metadata": {
  "kernelspec": {
   "display_name": "Python 3",
   "language": "python",
   "name": "python3"
  },
  "language_info": {
   "codemirror_mode": {
    "name": "ipython",
    "version": 2
   },
   "file_extension": ".py",
   "mimetype": "text/x-python",
   "name": "python",
   "nbconvert_exporter": "python",
   "pygments_lexer": "ipython2",
   "version": "2.7.6"
  }
 },
 "nbformat": 4,
 "nbformat_minor": 5
}
